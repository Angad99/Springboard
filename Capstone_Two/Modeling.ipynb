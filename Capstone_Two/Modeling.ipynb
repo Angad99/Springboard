{
 "cells": [
  {
   "cell_type": "markdown",
   "metadata": {},
   "source": [
    "# Modeling"
   ]
  },
  {
   "cell_type": "code",
   "execution_count": 1,
   "metadata": {},
   "outputs": [],
   "source": [
    "import pandas as pd\n",
    "from sklearn.linear_model import LinearRegression\n",
    "from sklearn.neighbors import KNeighborsClassifier\n",
    "from sklearn.ensemble import RandomForestClassifier\n",
    "from sklearn.metrics import mean_squared_error\n",
    "import time"
   ]
  },
  {
   "cell_type": "code",
   "execution_count": 2,
   "metadata": {},
   "outputs": [],
   "source": [
    "X_train = pd.read_csv('X_train_v2.csv',index_col = 0)\n",
    "X_test = pd.read_csv('X_test_v2.csv',index_col = 0)\n",
    "y_train = pd.read_csv('y_train_v2.csv',index_col = 0)\n",
    "y_test = pd.read_csv('y_test_v2.csv',index_col = 0)"
   ]
  },
  {
   "cell_type": "code",
   "execution_count": 3,
   "metadata": {},
   "outputs": [
    {
     "name": "stdout",
     "output_type": "stream",
     "text": [
      "The mse for the linear regression model is 3491299.105\n",
      "The model fitting time is 0.659\n",
      "The model prediction time is 0.006\n"
     ]
    }
   ],
   "source": [
    "lr = LinearRegression()\n",
    "\n",
    "lr_fit_start = time.time()\n",
    "lr.fit(X_train,y_train['favorites'])\n",
    "lr_fit_end = time.time()\n",
    "lr_fit_time = lr_fit_end - lr_fit_start\n",
    "\n",
    "lr_pred_start = time.time()\n",
    "lr_pred = lr.predict(X_test)\n",
    "lr_pred_end = time.time()\n",
    "lr_pred_time = lr_pred_end - lr_pred_start\n",
    "\n",
    "mse_lr = mean_squared_error(y_test['favorites'],lr_pred)\n",
    "\n",
    "print('The mse for the linear regression model is ' + str(round(mse_lr,3)))\n",
    "print('The model fitting time is ' + str(round(lr_fit_time,3)))\n",
    "print('The model prediction time is ' + str(round(lr_pred_time,3)))"
   ]
  },
  {
   "cell_type": "code",
   "execution_count": 4,
   "metadata": {},
   "outputs": [
    {
     "name": "stdout",
     "output_type": "stream",
     "text": [
      "R2 using favorites: 0.27644714055389574\n",
      "R2 using retweets: 0.15593006719209757\n"
     ]
    }
   ],
   "source": [
    "lr2 = LinearRegression()\n",
    "lr2.fit(X_train,y_train['retweets'])\n",
    "print('R2 using favorites: ' + str(lr.score(X_test,y_test['favorites'])) + '\\nR2 using retweets: ' + str(lr2.score(X_test,y_test['retweets'])))"
   ]
  },
  {
   "cell_type": "code",
   "execution_count": 5,
   "metadata": {},
   "outputs": [
    {
     "name": "stdout",
     "output_type": "stream",
     "text": [
      "The mse for the KNN model is 4993206.518\n",
      "The model fitting time is 0.681\n",
      "The model prediction time is 5.261\n"
     ]
    }
   ],
   "source": [
    "knn = KNeighborsClassifier()\n",
    "\n",
    "knn_fit_start = time.time()\n",
    "knn.fit(X_train,y_train['favorites'])\n",
    "knn_fit_end = time.time()\n",
    "knn_fit_time = knn_fit_end - knn_fit_start\n",
    "\n",
    "knn_pred_start = time.time()\n",
    "knn_pred = knn.predict(X_test)\n",
    "knn_pred_end = time.time()\n",
    "knn_pred_time = knn_pred_end - knn_pred_start\n",
    "\n",
    "mse_knn = mean_squared_error(y_test['favorites'],knn_pred)\n",
    "\n",
    "print('The mse for the KNN model is ' + str(round(mse_knn,3)))\n",
    "print('The model fitting time is ' + str(round(knn_fit_time,3)))\n",
    "print('The model prediction time is ' + str(round(knn_pred_time,3)))"
   ]
  },
  {
   "cell_type": "code",
   "execution_count": 6,
   "metadata": {},
   "outputs": [
    {
     "name": "stdout",
     "output_type": "stream",
     "text": [
      "The mse for the random forest model is 6465141.014\n",
      "The model fitting time is 68.852\n",
      "The model prediction time is 51.184\n"
     ]
    }
   ],
   "source": [
    "rf = RandomForestClassifier()\n",
    "\n",
    "rf_fit_start = time.time()\n",
    "rf.fit(X_train,y_train['favorites'])\n",
    "rf_fit_end = time.time()\n",
    "rf_fit_time = rf_fit_end - rf_fit_start\n",
    "\n",
    "rf_pred_start = time.time()\n",
    "rf_pred = rf.predict(X_test)\n",
    "rf_pred_end = time.time()\n",
    "rf_pred_time = rf_pred_end - rf_pred_start\n",
    "\n",
    "mse_rf = mean_squared_error(y_test['favorites'],rf_pred)\n",
    "\n",
    "print('The mse for the random forest model is ' + str(round(mse_rf,3)))\n",
    "print('The model fitting time is ' + str(round(rf_fit_time,3)))\n",
    "print('The model prediction time is ' + str(round(rf_pred_time,3)))"
   ]
  },
  {
   "cell_type": "code",
   "execution_count": 28,
   "metadata": {},
   "outputs": [],
   "source": [
    "coefficients = pd.DataFrame(data=list(lr.coef_),index=X_train.columns.values,columns=['coeff'])"
   ]
  },
  {
   "cell_type": "code",
   "execution_count": 37,
   "metadata": {},
   "outputs": [
    {
     "data": {
      "text/html": [
       "<div>\n",
       "<style scoped>\n",
       "    .dataframe tbody tr th:only-of-type {\n",
       "        vertical-align: middle;\n",
       "    }\n",
       "\n",
       "    .dataframe tbody tr th {\n",
       "        vertical-align: top;\n",
       "    }\n",
       "\n",
       "    .dataframe thead th {\n",
       "        text-align: right;\n",
       "    }\n",
       "</style>\n",
       "<table border=\"1\" class=\"dataframe\">\n",
       "  <thead>\n",
       "    <tr style=\"text-align: right;\">\n",
       "      <th></th>\n",
       "      <th>coeff</th>\n",
       "    </tr>\n",
       "  </thead>\n",
       "  <tbody>\n",
       "    <tr>\n",
       "      <th>screen_name_awonderland</th>\n",
       "      <td>3948.413720</td>\n",
       "    </tr>\n",
       "    <tr>\n",
       "      <th>screen_name_porterrobinson</th>\n",
       "      <td>2076.353005</td>\n",
       "    </tr>\n",
       "    <tr>\n",
       "      <th>music</th>\n",
       "      <td>692.180187</td>\n",
       "    </tr>\n",
       "    <tr>\n",
       "      <th>screen_name_sanholobeats</th>\n",
       "      <td>637.239503</td>\n",
       "    </tr>\n",
       "    <tr>\n",
       "      <th>going</th>\n",
       "      <td>616.982964</td>\n",
       "    </tr>\n",
       "    <tr>\n",
       "      <th>album</th>\n",
       "      <td>569.339038</td>\n",
       "    </tr>\n",
       "    <tr>\n",
       "      <th>virtual</th>\n",
       "      <td>558.850753</td>\n",
       "    </tr>\n",
       "    <tr>\n",
       "      <th>miss</th>\n",
       "      <td>501.577474</td>\n",
       "    </tr>\n",
       "    <tr>\n",
       "      <th>song</th>\n",
       "      <td>417.108355</td>\n",
       "    </tr>\n",
       "    <tr>\n",
       "      <th>first</th>\n",
       "      <td>358.299692</td>\n",
       "    </tr>\n",
       "  </tbody>\n",
       "</table>\n",
       "</div>"
      ],
      "text/plain": [
       "                                  coeff\n",
       "screen_name_awonderland     3948.413720\n",
       "screen_name_porterrobinson  2076.353005\n",
       "music                        692.180187\n",
       "screen_name_sanholobeats     637.239503\n",
       "going                        616.982964\n",
       "album                        569.339038\n",
       "virtual                      558.850753\n",
       "miss                         501.577474\n",
       "song                         417.108355\n",
       "first                        358.299692"
      ]
     },
     "execution_count": 37,
     "metadata": {},
     "output_type": "execute_result"
    }
   ],
   "source": [
    "coefficients.sort_values(by='coeff',ascending=False).head(10)"
   ]
  },
  {
   "cell_type": "code",
   "execution_count": 39,
   "metadata": {},
   "outputs": [],
   "source": [
    "from sklearn.linear_model import ElasticNet\n",
    "from sklearn.model_selection import GridSearchCV"
   ]
  },
  {
   "cell_type": "code",
   "execution_count": 42,
   "metadata": {},
   "outputs": [
    {
     "data": {
      "text/plain": [
       "GridSearchCV(estimator=ElasticNet(),\n",
       "             param_grid={'alpha': (0.01, 0.1, 1), 'l1_ratio': (0, 0.5, 1),\n",
       "                         'normalize': (True, False)})"
      ]
     },
     "execution_count": 42,
     "metadata": {},
     "output_type": "execute_result"
    }
   ],
   "source": [
    "import warnings\n",
    "warnings.filterwarnings(\"ignore\")\n",
    "\n",
    "params = {'alpha':(0.01,0.1,1),\n",
    "         'l1_ratio':(0,0.5,1),\n",
    "         'normalize':(True,False)}\n",
    "elastic = ElasticNet()\n",
    "grid = GridSearchCV(elastic,params)\n",
    "grid.fit(X_train,y_train['favorites'])"
   ]
  },
  {
   "cell_type": "code",
   "execution_count": 45,
   "metadata": {},
   "outputs": [
    {
     "data": {
      "text/plain": [
       "ElasticNet(alpha=0.1, l1_ratio=1, normalize=True)"
      ]
     },
     "execution_count": 45,
     "metadata": {},
     "output_type": "execute_result"
    }
   ],
   "source": [
    "grid.best_estimator_"
   ]
  },
  {
   "cell_type": "code",
   "execution_count": 46,
   "metadata": {},
   "outputs": [
    {
     "data": {
      "text/plain": [
       "ElasticNet(alpha=0.1, l1_ratio=1, normalize=True)"
      ]
     },
     "execution_count": 46,
     "metadata": {},
     "output_type": "execute_result"
    }
   ],
   "source": [
    "elastic = ElasticNet(alpha=0.1, l1_ratio=1, normalize=True)\n",
    "elastic.fit(X_train,y_train['favorites'])"
   ]
  },
  {
   "cell_type": "code",
   "execution_count": 47,
   "metadata": {},
   "outputs": [
    {
     "data": {
      "text/html": [
       "<div>\n",
       "<style scoped>\n",
       "    .dataframe tbody tr th:only-of-type {\n",
       "        vertical-align: middle;\n",
       "    }\n",
       "\n",
       "    .dataframe tbody tr th {\n",
       "        vertical-align: top;\n",
       "    }\n",
       "\n",
       "    .dataframe thead th {\n",
       "        text-align: right;\n",
       "    }\n",
       "</style>\n",
       "<table border=\"1\" class=\"dataframe\">\n",
       "  <thead>\n",
       "    <tr style=\"text-align: right;\">\n",
       "      <th></th>\n",
       "      <th>coeff</th>\n",
       "    </tr>\n",
       "  </thead>\n",
       "  <tbody>\n",
       "    <tr>\n",
       "      <th>screen_name_awonderland</th>\n",
       "      <td>3847.854521</td>\n",
       "    </tr>\n",
       "    <tr>\n",
       "      <th>screen_name_porterrobinson</th>\n",
       "      <td>1988.782060</td>\n",
       "    </tr>\n",
       "    <tr>\n",
       "      <th>music</th>\n",
       "      <td>635.842530</td>\n",
       "    </tr>\n",
       "    <tr>\n",
       "      <th>screen_name_sanholobeats</th>\n",
       "      <td>550.346278</td>\n",
       "    </tr>\n",
       "    <tr>\n",
       "      <th>going</th>\n",
       "      <td>519.619575</td>\n",
       "    </tr>\n",
       "    <tr>\n",
       "      <th>album</th>\n",
       "      <td>503.997065</td>\n",
       "    </tr>\n",
       "    <tr>\n",
       "      <th>virtual</th>\n",
       "      <td>483.015332</td>\n",
       "    </tr>\n",
       "    <tr>\n",
       "      <th>miss</th>\n",
       "      <td>420.031050</td>\n",
       "    </tr>\n",
       "    <tr>\n",
       "      <th>song</th>\n",
       "      <td>360.222659</td>\n",
       "    </tr>\n",
       "    <tr>\n",
       "      <th>first</th>\n",
       "      <td>275.698762</td>\n",
       "    </tr>\n",
       "  </tbody>\n",
       "</table>\n",
       "</div>"
      ],
      "text/plain": [
       "                                  coeff\n",
       "screen_name_awonderland     3847.854521\n",
       "screen_name_porterrobinson  1988.782060\n",
       "music                        635.842530\n",
       "screen_name_sanholobeats     550.346278\n",
       "going                        519.619575\n",
       "album                        503.997065\n",
       "virtual                      483.015332\n",
       "miss                         420.031050\n",
       "song                         360.222659\n",
       "first                        275.698762"
      ]
     },
     "execution_count": 47,
     "metadata": {},
     "output_type": "execute_result"
    }
   ],
   "source": [
    "coefficients = pd.DataFrame(data=list(elastic.coef_),index=X_train.columns.values,columns=['coeff'])\n",
    "coefficients.sort_values(by='coeff',ascending=False).head(10)"
   ]
  },
  {
   "cell_type": "code",
   "execution_count": 48,
   "metadata": {},
   "outputs": [
    {
     "data": {
      "text/plain": [
       "3490805.3505559377"
      ]
     },
     "execution_count": 48,
     "metadata": {},
     "output_type": "execute_result"
    }
   ],
   "source": [
    "elastic_pred = elastic.predict(X_test)\n",
    "mean_squared_error(y_test['favorites'],elastic_pred)"
   ]
  },
  {
   "cell_type": "code",
   "execution_count": 68,
   "metadata": {},
   "outputs": [
    {
     "data": {
      "text/html": [
       "<div>\n",
       "<style scoped>\n",
       "    .dataframe tbody tr th:only-of-type {\n",
       "        vertical-align: middle;\n",
       "    }\n",
       "\n",
       "    .dataframe tbody tr th {\n",
       "        vertical-align: top;\n",
       "    }\n",
       "\n",
       "    .dataframe thead th {\n",
       "        text-align: right;\n",
       "    }\n",
       "</style>\n",
       "<table border=\"1\" class=\"dataframe\">\n",
       "  <thead>\n",
       "    <tr style=\"text-align: right;\">\n",
       "      <th></th>\n",
       "      <th>pred</th>\n",
       "      <th>actual</th>\n",
       "      <th>difference</th>\n",
       "    </tr>\n",
       "  </thead>\n",
       "  <tbody>\n",
       "    <tr>\n",
       "      <th>774</th>\n",
       "      <td>610.800870</td>\n",
       "      <td>40080</td>\n",
       "      <td>39469.199130</td>\n",
       "    </tr>\n",
       "    <tr>\n",
       "      <th>5538</th>\n",
       "      <td>2862.902832</td>\n",
       "      <td>30131</td>\n",
       "      <td>27268.097168</td>\n",
       "    </tr>\n",
       "    <tr>\n",
       "      <th>788</th>\n",
       "      <td>374.688536</td>\n",
       "      <td>19783</td>\n",
       "      <td>19408.311464</td>\n",
       "    </tr>\n",
       "    <tr>\n",
       "      <th>476</th>\n",
       "      <td>4216.593545</td>\n",
       "      <td>21126</td>\n",
       "      <td>16909.406455</td>\n",
       "    </tr>\n",
       "    <tr>\n",
       "      <th>10259</th>\n",
       "      <td>335.102107</td>\n",
       "      <td>17155</td>\n",
       "      <td>16819.897893</td>\n",
       "    </tr>\n",
       "    <tr>\n",
       "      <th>5323</th>\n",
       "      <td>2376.363791</td>\n",
       "      <td>16984</td>\n",
       "      <td>14607.636209</td>\n",
       "    </tr>\n",
       "    <tr>\n",
       "      <th>5302</th>\n",
       "      <td>2228.183567</td>\n",
       "      <td>16823</td>\n",
       "      <td>14594.816433</td>\n",
       "    </tr>\n",
       "    <tr>\n",
       "      <th>5297</th>\n",
       "      <td>2832.280578</td>\n",
       "      <td>17382</td>\n",
       "      <td>14549.719422</td>\n",
       "    </tr>\n",
       "    <tr>\n",
       "      <th>5614</th>\n",
       "      <td>2448.674317</td>\n",
       "      <td>16966</td>\n",
       "      <td>14517.325683</td>\n",
       "    </tr>\n",
       "    <tr>\n",
       "      <th>5477</th>\n",
       "      <td>2221.086075</td>\n",
       "      <td>16181</td>\n",
       "      <td>13959.913925</td>\n",
       "    </tr>\n",
       "  </tbody>\n",
       "</table>\n",
       "</div>"
      ],
      "text/plain": [
       "              pred  actual    difference\n",
       "774     610.800870   40080  39469.199130\n",
       "5538   2862.902832   30131  27268.097168\n",
       "788     374.688536   19783  19408.311464\n",
       "476    4216.593545   21126  16909.406455\n",
       "10259   335.102107   17155  16819.897893\n",
       "5323   2376.363791   16984  14607.636209\n",
       "5302   2228.183567   16823  14594.816433\n",
       "5297   2832.280578   17382  14549.719422\n",
       "5614   2448.674317   16966  14517.325683\n",
       "5477   2221.086075   16181  13959.913925"
      ]
     },
     "execution_count": 68,
     "metadata": {},
     "output_type": "execute_result"
    }
   ],
   "source": [
    "predict_vs_actual = pd.DataFrame(data={'pred': elastic_pred,'actual':y_test['favorites']})\n",
    "predict_vs_actual['difference'] = abs(predict_vs_actual['actual'] - predict_vs_actual['pred'])\n",
    "predict_vs_actual.sort_values(by='difference',ascending=False).head(10)"
   ]
  },
  {
   "cell_type": "code",
   "execution_count": 75,
   "metadata": {},
   "outputs": [
    {
     "data": {
      "text/plain": [
       "<matplotlib.axes._subplots.AxesSubplot at 0x179f6a67760>"
      ]
     },
     "execution_count": 75,
     "metadata": {},
     "output_type": "execute_result"
    },
    {
     "data": {
      "image/png": "[encoded data removed]",
      "text/plain": [
       "<Figure size 432x288 with 1 Axes>"
      ]
     },
     "metadata": {
      "needs_background": "light"
     },
     "output_type": "display_data"
    }
   ],
   "source": [
    "predict_vs_actual.plot.scatter(x='actual',y='difference')"
   ]
  },
  {
   "cell_type": "code",
   "execution_count": 79,
   "metadata": {},
   "outputs": [
    {
     "data": {
      "text/plain": [
       "<matplotlib.axes._subplots.AxesSubplot at 0x179f7b9ae80>"
      ]
     },
     "execution_count": 79,
     "metadata": {},
     "output_type": "execute_result"
    },
    {
     "data": {
      "image/png": "[encoded data removed]",
      "text/plain": [
       "<Figure size 432x288 with 1 Axes>"
      ]
     },
     "metadata": {
      "needs_background": "light"
     },
     "output_type": "display_data"
    }
   ],
   "source": [
    "predict_vs_actual[predict_vs_actual['actual']<5000].plot.scatter(x='actual',y='difference')"
   ]
  },
  {
   "cell_type": "code",
   "execution_count": null,
   "metadata": {},
   "outputs": [],
   "source": []
  }
 ],
 "metadata": {
  "kernelspec": {
   "display_name": "Python 3",
   "language": "python",
   "name": "python3"
  },
  "language_info": {
   "codemirror_mode": {
    "name": "ipython",
    "version": 3
   },
   "file_extension": ".py",
   "mimetype": "text/x-python",
   "name": "python",
   "nbconvert_exporter": "python",
   "pygments_lexer": "ipython3",
   "version": "3.8.3"
  }
 },
 "nbformat": 4,
 "nbformat_minor": 4
}
