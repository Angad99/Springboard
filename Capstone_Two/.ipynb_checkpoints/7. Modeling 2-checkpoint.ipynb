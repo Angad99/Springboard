{
 "cells": [
  {
   "cell_type": "markdown",
   "metadata": {},
   "source": [
    "# Modeling 2"
   ]
  },
  {
   "cell_type": "markdown",
   "metadata": {},
   "source": [
    "This notebook investigates if separating the data by artist leads to improved predictive capability."
   ]
  },
  {
   "cell_type": "code",
   "execution_count": 1,
   "metadata": {},
   "outputs": [],
   "source": [
    "import pandas as pd\n",
    "from sklearn.linear_model import LinearRegression\n",
    "from sklearn.metrics import mean_squared_error\n",
    "from sklearn.model_selection import train_test_split\n",
    "import time"
   ]
  },
  {
   "cell_type": "code",
   "execution_count": 2,
   "metadata": {},
   "outputs": [],
   "source": [
    "X_train = pd.read_csv('Data/X_train_v2.csv',index_col = 0)\n",
    "X_test = pd.read_csv('Data/X_test_v2.csv',index_col = 0)\n",
    "y_train = pd.read_csv('Data/y_train_v2.csv',index_col = 0)\n",
    "y_test = pd.read_csv('Data/y_test_v2.csv',index_col = 0)"
   ]
  },
  {
   "cell_type": "code",
   "execution_count": 3,
   "metadata": {},
   "outputs": [],
   "source": [
    "X = pd.concat([X_train,X_test])\n",
    "y = pd.concat([y_train,y_test])"
   ]
  },
  {
   "cell_type": "markdown",
   "metadata": {},
   "source": [
    "## Build Linear Models for Each Artist"
   ]
  },
  {
   "cell_type": "code",
   "execution_count": 4,
   "metadata": {},
   "outputs": [],
   "source": [
    "def LinearRegressor(X_train,X_test,y_train,y_test):\n",
    "    lr = LinearRegression()\n",
    "\n",
    "    lr_fit_start = time.time()\n",
    "    lr.fit(X_train,y_train['favorites'])\n",
    "    lr_fit_end = time.time()\n",
    "    lr_fit_time = lr_fit_end - lr_fit_start\n",
    "\n",
    "    lr_pred_start = time.time()\n",
    "    lr_pred = lr.predict(X_test)\n",
    "    lr_pred_end = time.time()\n",
    "    lr_pred_time = lr_pred_end - lr_pred_start\n",
    "\n",
    "    mse_lr_test = mean_squared_error(y_test['favorites'],lr_pred)\n",
    "    mse_lr_train = mean_squared_error(y_train['favorites'],lr.predict(X_train))\n",
    "\n",
    "    print('The train mse for the linear regression model is ' + str(round(mse_lr_train,3)))\n",
    "    print('The test mse for the linear regression model is ' + str(round(mse_lr_test,3)))\n",
    "    print('The model fitting time is ' + str(round(lr_fit_time,3)))\n",
    "    print('The model prediction time is ' + str(round(lr_pred_time,3)))\n",
    "    \n",
    "    return mse_lr_train, mse_lr_test"
   ]
  },
  {
   "cell_type": "code",
   "execution_count": 5,
   "metadata": {},
   "outputs": [
    {
     "name": "stdout",
     "output_type": "stream",
     "text": [
      "The train mse for the linear regression model is 6768748.22\n",
      "The test mse for the linear regression model is 8230582.227\n",
      "The model fitting time is 0.016\n",
      "The model prediction time is 0.004\n"
     ]
    }
   ],
   "source": [
    "alison_x =  X[X.screen_name_awonderland==1]\n",
    "alison_y = y.loc[alison_x.index]\n",
    "X_train, X_test, y_train, y_test = train_test_split(alison_x, alison_y, test_size=0.25, random_state=42)\n",
    "alison_train_mse, alison_test_mse = LinearRegressor(X_train, X_test, y_train, y_test)"
   ]
  },
  {
   "cell_type": "code",
   "execution_count": 6,
   "metadata": {},
   "outputs": [
    {
     "name": "stdout",
     "output_type": "stream",
     "text": [
      "The train mse for the linear regression model is 873052.738\n",
      "The test mse for the linear regression model is 679448.061\n",
      "The model fitting time is 0.009\n",
      "The model prediction time is 0.006\n"
     ]
    }
   ],
   "source": [
    "ltc_x =  X[X.screen_name_LouisTheChild==1]\n",
    "ltc_y = y.loc[ltc_x.index]\n",
    "X_train, X_test, y_train, y_test = train_test_split(ltc_x, ltc_y, test_size=0.25, random_state=42)\n",
    "ltc_train_mse, ltc_test_mse = LinearRegressor(X_train, X_test, y_train, y_test)"
   ]
  },
  {
   "cell_type": "code",
   "execution_count": 7,
   "metadata": {},
   "outputs": [
    {
     "name": "stdout",
     "output_type": "stream",
     "text": [
      "The train mse for the linear regression model is 643872.158\n",
      "The test mse for the linear regression model is 458418.765\n",
      "The model fitting time is 0.008\n",
      "The model prediction time is 0.004\n"
     ]
    }
   ],
   "source": [
    "nght_x =  X[X.screen_name_NGHTMRE==1]\n",
    "nght_y = y.loc[nght_x.index]\n",
    "X_train, X_test, y_train, y_test = train_test_split(nght_x, nght_y, test_size=0.25, random_state=42)\n",
    "nght_train_mse, nght_test_mse = LinearRegressor(X_train, X_test, y_train, y_test)"
   ]
  },
  {
   "cell_type": "code",
   "execution_count": 8,
   "metadata": {},
   "outputs": [
    {
     "name": "stdout",
     "output_type": "stream",
     "text": [
      "The train mse for the linear regression model is 90979.37\n",
      "The test mse for the linear regression model is 43013.378\n",
      "The model fitting time is 0.01\n",
      "The model prediction time is 0.003\n"
     ]
    }
   ],
   "source": [
    "what_x =  X[X.screen_name_WhatSoNot==1]\n",
    "what_y = y.loc[what_x.index]\n",
    "X_train, X_test, y_train, y_test = train_test_split(what_x, what_y, test_size=0.25, random_state=42)\n",
    "what_train_mse, what_test_mse = LinearRegressor(X_train, X_test, y_train, y_test)"
   ]
  },
  {
   "cell_type": "code",
   "execution_count": 9,
   "metadata": {},
   "outputs": [
    {
     "name": "stdout",
     "output_type": "stream",
     "text": [
      "The train mse for the linear regression model is 6285.289\n",
      "The test mse for the linear regression model is 3717.03\n",
      "The model fitting time is 0.008\n",
      "The model prediction time is 0.005\n"
     ]
    }
   ],
   "source": [
    "duk_x =  X[X.screen_name_pekingduk==1]\n",
    "duk_y = y.loc[duk_x.index]\n",
    "X_train, X_test, y_train, y_test = train_test_split(duk_x, duk_y, test_size=0.25, random_state=42)\n",
    "duk_train_mse, duk_test_mse = LinearRegressor(X_train, X_test, y_train, y_test)"
   ]
  },
  {
   "cell_type": "code",
   "execution_count": 10,
   "metadata": {},
   "outputs": [
    {
     "name": "stdout",
     "output_type": "stream",
     "text": [
      "The train mse for the linear regression model is 17530967.758\n",
      "The test mse for the linear regression model is 17065591.984\n",
      "The model fitting time is 0.008\n",
      "The model prediction time is 0.004\n"
     ]
    }
   ],
   "source": [
    "porter_x =  X[X.screen_name_porterrobinson==1]\n",
    "porter_y = y.loc[porter_x.index]\n",
    "X_train, X_test, y_train, y_test = train_test_split(porter_x, porter_y, test_size=0.25, random_state=42)\n",
    "porter_train_mse, porter_test_mse = LinearRegressor(X_train, X_test, y_train, y_test)"
   ]
  },
  {
   "cell_type": "code",
   "execution_count": 11,
   "metadata": {},
   "outputs": [
    {
     "name": "stdout",
     "output_type": "stream",
     "text": [
      "The train mse for the linear regression model is 874473.351\n",
      "The test mse for the linear regression model is 1487673.534\n",
      "The model fitting time is 0.006\n",
      "The model prediction time is 0.004\n"
     ]
    }
   ],
   "source": [
    "san_x =  X[X.screen_name_sanholobeats==1]\n",
    "san_y = y.loc[san_x.index]\n",
    "X_train, X_test, y_train, y_test = train_test_split(san_x, san_y, test_size=0.25, random_state=42)\n",
    "san_train_mse, san_test_mse = LinearRegressor(X_train, X_test, y_train, y_test)"
   ]
  },
  {
   "cell_type": "code",
   "execution_count": 12,
   "metadata": {},
   "outputs": [
    {
     "name": "stdout",
     "output_type": "stream",
     "text": [
      "The train mse for the linear regression model is 7858.945\n",
      "The test mse for the linear regression model is 3970.866\n",
      "The model fitting time is 0.008\n",
      "The model prediction time is 0.005\n"
     ]
    }
   ],
   "source": [
    "knocks_x =  X[X.screen_name_theknocks==1]\n",
    "knocks_y = y.loc[knocks_x.index]\n",
    "X_train, X_test, y_train, y_test = train_test_split(knocks_x, knocks_y, test_size=0.25, random_state=42)\n",
    "knocks_train_mse, knocks_test_mse = LinearRegressor(X_train, X_test, y_train, y_test)"
   ]
  },
  {
   "cell_type": "code",
   "execution_count": 13,
   "metadata": {},
   "outputs": [
    {
     "name": "stdout",
     "output_type": "stream",
     "text": [
      "The train mse for the linear regression model is 2295202.064\n",
      "The test mse for the linear regression model is 3260179.532\n",
      "The model fitting time is 0.011\n",
      "The model prediction time is 0.006\n"
     ]
    }
   ],
   "source": [
    "galantis_x =  X[X.screen_name_wearegalantis==1]\n",
    "galantis_y = y.loc[galantis_x.index]\n",
    "X_train, X_test, y_train, y_test = train_test_split(galantis_x, galantis_y, test_size=0.25, random_state=42)\n",
    "galantis_train_mse, galantis_test_mse = LinearRegressor(X_train, X_test, y_train, y_test)"
   ]
  },
  {
   "cell_type": "code",
   "execution_count": 14,
   "metadata": {},
   "outputs": [
    {
     "name": "stdout",
     "output_type": "stream",
     "text": [
      "The train mse for the linear regression model is 334925.289\n",
      "The test mse for the linear regression model is 2277983.631\n",
      "The model fitting time is 0.006\n",
      "The model prediction time is 0.003\n"
     ]
    }
   ],
   "source": [
    "jai_x =  X[(X.screen_name_awonderland==0) & (X.screen_name_wearegalantis==0) & (X.screen_name_theknocks==0) & (X.screen_name_sanholobeats==0) & (X.screen_name_porterrobinson==0) & (X.screen_name_pekingduk==0) & (X.screen_name_WhatSoNot==0) & (X.screen_name_NGHTMRE==0) & (X.screen_name_LouisTheChild==0)]\n",
    "jai_y = y.loc[jai_x.index]\n",
    "X_train, X_test, y_train, y_test = train_test_split(jai_x, jai_y, test_size=0.25, random_state=42)\n",
    "jai_train_mse, jai_test_mse = LinearRegressor(X_train, X_test, y_train, y_test)"
   ]
  },
  {
   "cell_type": "code",
   "execution_count": 15,
   "metadata": {},
   "outputs": [],
   "source": [
    "artists = ['awonderland','wearegalantis','sanholobeats','theknocks','pekingduk','porterrobinson','WhatSoNot','LouisTheChild','NGHTMRE','JaiWolfx']\n",
    "train_mse = [alison_train_mse,galantis_train_mse,san_train_mse,knocks_train_mse,duk_train_mse,porter_train_mse,what_train_mse,ltc_train_mse,nght_train_mse,jai_train_mse]\n",
    "test_mse = [alison_test_mse,galantis_test_mse,san_test_mse,knocks_test_mse,duk_test_mse,porter_test_mse,what_test_mse,ltc_test_mse,nght_test_mse,jai_test_mse]\n",
    "train_size = [len(alison_x),len(galantis_x),len(san_x),len(knocks_x),len(duk_x),len(porter_x),len(what_x),len(ltc_x),len(nght_x),len(jai_x)]\n",
    "\n",
    "\n",
    "results = pd.DataFrame({'Artist':artists,'Training Size':train_size,'Train MSE':train_mse,'Test MSE':test_mse})"
   ]
  },
  {
   "cell_type": "markdown",
   "metadata": {},
   "source": [
    "## Results"
   ]
  },
  {
   "cell_type": "code",
   "execution_count": 16,
   "metadata": {},
   "outputs": [
    {
     "data": {
      "text/html": [
       "<div>\n",
       "<style scoped>\n",
       "    .dataframe tbody tr th:only-of-type {\n",
       "        vertical-align: middle;\n",
       "    }\n",
       "\n",
       "    .dataframe tbody tr th {\n",
       "        vertical-align: top;\n",
       "    }\n",
       "\n",
       "    .dataframe thead th {\n",
       "        text-align: right;\n",
       "    }\n",
       "</style>\n",
       "<table border=\"1\" class=\"dataframe\">\n",
       "  <thead>\n",
       "    <tr style=\"text-align: right;\">\n",
       "      <th></th>\n",
       "      <th>Training Size</th>\n",
       "      <th>Train MSE</th>\n",
       "      <th>Test MSE</th>\n",
       "    </tr>\n",
       "    <tr>\n",
       "      <th>Artist</th>\n",
       "      <th></th>\n",
       "      <th></th>\n",
       "      <th></th>\n",
       "    </tr>\n",
       "  </thead>\n",
       "  <tbody>\n",
       "    <tr>\n",
       "      <th>awonderland</th>\n",
       "      <td>694</td>\n",
       "      <td>6768748</td>\n",
       "      <td>8230582</td>\n",
       "    </tr>\n",
       "    <tr>\n",
       "      <th>wearegalantis</th>\n",
       "      <td>1594</td>\n",
       "      <td>2295202</td>\n",
       "      <td>3260179</td>\n",
       "    </tr>\n",
       "    <tr>\n",
       "      <th>sanholobeats</th>\n",
       "      <td>662</td>\n",
       "      <td>874473</td>\n",
       "      <td>1487673</td>\n",
       "    </tr>\n",
       "    <tr>\n",
       "      <th>theknocks</th>\n",
       "      <td>1484</td>\n",
       "      <td>7858</td>\n",
       "      <td>3970</td>\n",
       "    </tr>\n",
       "    <tr>\n",
       "      <th>pekingduk</th>\n",
       "      <td>817</td>\n",
       "      <td>6285</td>\n",
       "      <td>3717</td>\n",
       "    </tr>\n",
       "    <tr>\n",
       "      <th>porterrobinson</th>\n",
       "      <td>1219</td>\n",
       "      <td>17530967</td>\n",
       "      <td>17065591</td>\n",
       "    </tr>\n",
       "    <tr>\n",
       "      <th>WhatSoNot</th>\n",
       "      <td>1585</td>\n",
       "      <td>90979</td>\n",
       "      <td>43013</td>\n",
       "    </tr>\n",
       "    <tr>\n",
       "      <th>LouisTheChild</th>\n",
       "      <td>1054</td>\n",
       "      <td>873052</td>\n",
       "      <td>679448</td>\n",
       "    </tr>\n",
       "    <tr>\n",
       "      <th>NGHTMRE</th>\n",
       "      <td>1099</td>\n",
       "      <td>643872</td>\n",
       "      <td>458418</td>\n",
       "    </tr>\n",
       "    <tr>\n",
       "      <th>JaiWolfx</th>\n",
       "      <td>1681</td>\n",
       "      <td>334925</td>\n",
       "      <td>2277983</td>\n",
       "    </tr>\n",
       "  </tbody>\n",
       "</table>\n",
       "</div>"
      ],
      "text/plain": [
       "                Training Size  Train MSE  Test MSE\n",
       "Artist                                            \n",
       "awonderland               694    6768748   8230582\n",
       "wearegalantis            1594    2295202   3260179\n",
       "sanholobeats              662     874473   1487673\n",
       "theknocks                1484       7858      3970\n",
       "pekingduk                 817       6285      3717\n",
       "porterrobinson           1219   17530967  17065591\n",
       "WhatSoNot                1585      90979     43013\n",
       "LouisTheChild            1054     873052    679448\n",
       "NGHTMRE                  1099     643872    458418\n",
       "JaiWolfx                 1681     334925   2277983"
      ]
     },
     "execution_count": 16,
     "metadata": {},
     "output_type": "execute_result"
    }
   ],
   "source": [
    "results.set_index('Artist',inplace=True)\n",
    "results = results.astype(int)\n",
    "results"
   ]
  },
  {
   "cell_type": "markdown",
   "metadata": {},
   "source": [
    "Some artists have much more predictable favorites while others are quite unpredictable. Further investigation would have to be done to determine the cause. One hypothesis I have is that the lower error artists simply have fewer viral tweets, which are much harder for a model to predict."
   ]
  }
 ],
 "metadata": {
  "kernelspec": {
   "display_name": "Python 3",
   "language": "python",
   "name": "python3"
  },
  "language_info": {
   "codemirror_mode": {
    "name": "ipython",
    "version": 3
   },
   "file_extension": ".py",
   "mimetype": "text/x-python",
   "name": "python",
   "nbconvert_exporter": "python",
   "pygments_lexer": "ipython3",
   "version": "3.8.3"
  },
  "varInspector": {
   "cols": {
    "lenName": 16,
    "lenType": 16,
    "lenVar": 40
   },
   "kernels_config": {
    "python": {
     "delete_cmd_postfix": "",
     "delete_cmd_prefix": "del ",
     "library": "var_list.py",
     "varRefreshCmd": "print(var_dic_list())"
    },
    "r": {
     "delete_cmd_postfix": ") ",
     "delete_cmd_prefix": "rm(",
     "library": "var_list.r",
     "varRefreshCmd": "cat(var_dic_list()) "
    }
   },
   "types_to_exclude": [
    "module",
    "function",
    "builtin_function_or_method",
    "instance",
    "_Feature"
   ],
   "window_display": false
  }
 },
 "nbformat": 4,
 "nbformat_minor": 4
}
