{
 "cells": [
  {
   "cell_type": "code",
   "execution_count": 1,
   "metadata": {},
   "outputs": [],
   "source": [
    "import pandas as pd\n",
    "from sklearn.linear_model import LinearRegression\n",
    "from sklearn.metrics import mean_squared_error\n",
    "from sklearn.model_selection import train_test_split\n",
    "import time"
   ]
  },
  {
   "cell_type": "code",
   "execution_count": 2,
   "metadata": {},
   "outputs": [],
   "source": [
    "X_train = pd.read_csv('X_train_v2.csv',index_col = 0)\n",
    "X_test = pd.read_csv('X_test_v2.csv',index_col = 0)\n",
    "y_train = pd.read_csv('y_train_v2.csv',index_col = 0)\n",
    "y_test = pd.read_csv('y_test_v2.csv',index_col = 0)"
   ]
  },
  {
   "cell_type": "code",
   "execution_count": 3,
   "metadata": {},
   "outputs": [],
   "source": [
    "X = pd.concat([X_train,X_test])\n",
    "y = pd.concat([y_train,y_test])"
   ]
  },
  {
   "cell_type": "code",
   "execution_count": 4,
   "metadata": {},
   "outputs": [],
   "source": [
    "def LinearRegressor(X_train,X_test,y_train,y_test):\n",
    "    lr = LinearRegression()\n",
    "\n",
    "    lr_fit_start = time.time()\n",
    "    lr.fit(X_train,y_train['favorites'])\n",
    "    lr_fit_end = time.time()\n",
    "    lr_fit_time = lr_fit_end - lr_fit_start\n",
    "\n",
    "    lr_pred_start = time.time()\n",
    "    lr_pred = lr.predict(X_test)\n",
    "    lr_pred_end = time.time()\n",
    "    lr_pred_time = lr_pred_end - lr_pred_start\n",
    "\n",
    "    mse_lr_test = mean_squared_error(y_test['favorites'],lr_pred)\n",
    "    mse_lr_train = mean_squared_error(y_train['favorites'],lr.predict(X_train))\n",
    "\n",
    "    print('The train mse for the linear regression model is ' + str(round(mse_lr_train,3)))\n",
    "    print('The test mse for the linear regression model is ' + str(round(mse_lr_test,3)))\n",
    "    print('The model fitting time is ' + str(round(lr_fit_time,3)))\n",
    "    print('The model prediction time is ' + str(round(lr_pred_time,3)))\n",
    "    \n",
    "    return mse_lr_train, mse_lr_test"
   ]
  },
  {
   "cell_type": "code",
   "execution_count": 5,
   "metadata": {},
   "outputs": [
    {
     "name": "stdout",
     "output_type": "stream",
     "text": [
      "The train mse for the linear regression model is 6768748.22\n",
      "The test mse for the linear regression model is 8230582.227\n",
      "The model fitting time is 0.014\n",
      "The model prediction time is 0.002\n"
     ]
    }
   ],
   "source": [
    "alison_x =  X[X.screen_name_awonderland==1]\n",
    "alison_y = y.loc[alison_x.index]\n",
    "X_train, X_test, y_train, y_test = train_test_split(alison_x, alison_y, test_size=0.25, random_state=42)\n",
    "alison_train_mse, alison_test_mse = LinearRegressor(X_train, X_test, y_train, y_test)"
   ]
  },
  {
   "cell_type": "code",
   "execution_count": 6,
   "metadata": {},
   "outputs": [
    {
     "name": "stdout",
     "output_type": "stream",
     "text": [
      "The train mse for the linear regression model is 873052.738\n",
      "The test mse for the linear regression model is 679448.061\n",
      "The model fitting time is 0.005\n",
      "The model prediction time is 0.003\n"
     ]
    }
   ],
   "source": [
    "ltc_x =  X[X.screen_name_LouisTheChild==1]\n",
    "ltc_y = y.loc[ltc_x.index]\n",
    "X_train, X_test, y_train, y_test = train_test_split(ltc_x, ltc_y, test_size=0.25, random_state=42)\n",
    "ltc_train_mse, ltc_test_mse = LinearRegressor(X_train, X_test, y_train, y_test)"
   ]
  },
  {
   "cell_type": "code",
   "execution_count": 7,
   "metadata": {},
   "outputs": [
    {
     "name": "stdout",
     "output_type": "stream",
     "text": [
      "The train mse for the linear regression model is 643872.158\n",
      "The test mse for the linear regression model is 458418.765\n",
      "The model fitting time is 0.008\n",
      "The model prediction time is 0.005\n"
     ]
    }
   ],
   "source": [
    "nght_x =  X[X.screen_name_NGHTMRE==1]\n",
    "nght_y = y.loc[nght_x.index]\n",
    "X_train, X_test, y_train, y_test = train_test_split(nght_x, nght_y, test_size=0.25, random_state=42)\n",
    "nght_train_mse, nght_test_mse = LinearRegressor(X_train, X_test, y_train, y_test)"
   ]
  },
  {
   "cell_type": "code",
   "execution_count": 8,
   "metadata": {},
   "outputs": [
    {
     "name": "stdout",
     "output_type": "stream",
     "text": [
      "The train mse for the linear regression model is 90979.37\n",
      "The test mse for the linear regression model is 43013.378\n",
      "The model fitting time is 0.007\n",
      "The model prediction time is 0.003\n"
     ]
    }
   ],
   "source": [
    "what_x =  X[X.screen_name_WhatSoNot==1]\n",
    "what_y = y.loc[what_x.index]\n",
    "X_train, X_test, y_train, y_test = train_test_split(what_x, what_y, test_size=0.25, random_state=42)\n",
    "what_train_mse, what_test_mse = LinearRegressor(X_train, X_test, y_train, y_test)"
   ]
  },
  {
   "cell_type": "code",
   "execution_count": 9,
   "metadata": {},
   "outputs": [
    {
     "name": "stdout",
     "output_type": "stream",
     "text": [
      "The train mse for the linear regression model is 6285.289\n",
      "The test mse for the linear regression model is 3717.03\n",
      "The model fitting time is 0.006\n",
      "The model prediction time is 0.002\n"
     ]
    }
   ],
   "source": [
    "duk_x =  X[X.screen_name_pekingduk==1]\n",
    "duk_y = y.loc[duk_x.index]\n",
    "X_train, X_test, y_train, y_test = train_test_split(duk_x, duk_y, test_size=0.25, random_state=42)\n",
    "duk_train_mse, duk_test_mse = LinearRegressor(X_train, X_test, y_train, y_test)"
   ]
  },
  {
   "cell_type": "code",
   "execution_count": 10,
   "metadata": {},
   "outputs": [
    {
     "name": "stdout",
     "output_type": "stream",
     "text": [
      "The train mse for the linear regression model is 17530967.758\n",
      "The test mse for the linear regression model is 17065591.984\n",
      "The model fitting time is 0.006\n",
      "The model prediction time is 0.002\n"
     ]
    }
   ],
   "source": [
    "porter_x =  X[X.screen_name_porterrobinson==1]\n",
    "porter_y = y.loc[porter_x.index]\n",
    "X_train, X_test, y_train, y_test = train_test_split(porter_x, porter_y, test_size=0.25, random_state=42)\n",
    "porter_train_mse, porter_test_mse = LinearRegressor(X_train, X_test, y_train, y_test)"
   ]
  },
  {
   "cell_type": "code",
   "execution_count": 11,
   "metadata": {},
   "outputs": [
    {
     "name": "stdout",
     "output_type": "stream",
     "text": [
      "The train mse for the linear regression model is 874473.351\n",
      "The test mse for the linear regression model is 1487673.534\n",
      "The model fitting time is 0.005\n",
      "The model prediction time is 0.003\n"
     ]
    }
   ],
   "source": [
    "san_x =  X[X.screen_name_sanholobeats==1]\n",
    "san_y = y.loc[san_x.index]\n",
    "X_train, X_test, y_train, y_test = train_test_split(san_x, san_y, test_size=0.25, random_state=42)\n",
    "san_train_mse, san_test_mse = LinearRegressor(X_train, X_test, y_train, y_test)"
   ]
  },
  {
   "cell_type": "code",
   "execution_count": 12,
   "metadata": {},
   "outputs": [
    {
     "name": "stdout",
     "output_type": "stream",
     "text": [
      "The train mse for the linear regression model is 7858.945\n",
      "The test mse for the linear regression model is 3970.866\n",
      "The model fitting time is 0.009\n",
      "The model prediction time is 0.004\n"
     ]
    }
   ],
   "source": [
    "knocks_x =  X[X.screen_name_theknocks==1]\n",
    "knocks_y = y.loc[knocks_x.index]\n",
    "X_train, X_test, y_train, y_test = train_test_split(knocks_x, knocks_y, test_size=0.25, random_state=42)\n",
    "knocks_train_mse, knocks_test_mse = LinearRegressor(X_train, X_test, y_train, y_test)"
   ]
  },
  {
   "cell_type": "code",
   "execution_count": 14,
   "metadata": {},
   "outputs": [
    {
     "name": "stdout",
     "output_type": "stream",
     "text": [
      "The train mse for the linear regression model is 2295202.064\n",
      "The test mse for the linear regression model is 3260179.532\n",
      "The model fitting time is 0.012\n",
      "The model prediction time is 0.005\n"
     ]
    }
   ],
   "source": [
    "galantis_x =  X[X.screen_name_wearegalantis==1]\n",
    "galantis_y = y.loc[galantis_x.index]\n",
    "X_train, X_test, y_train, y_test = train_test_split(galantis_x, galantis_y, test_size=0.25, random_state=42)\n",
    "galantis_train_mse, galantis_test_mse = LinearRegressor(X_train, X_test, y_train, y_test)"
   ]
  },
  {
   "cell_type": "code",
   "execution_count": 17,
   "metadata": {},
   "outputs": [
    {
     "name": "stdout",
     "output_type": "stream",
     "text": [
      "The train mse for the linear regression model is 334925.289\n",
      "The test mse for the linear regression model is 2277983.631\n",
      "The model fitting time is 0.01\n",
      "The model prediction time is 0.005\n"
     ]
    }
   ],
   "source": [
    "jai_x =  X[(X.screen_name_awonderland==0) & (X.screen_name_wearegalantis==0) & (X.screen_name_theknocks==0) & (X.screen_name_sanholobeats==0) & (X.screen_name_porterrobinson==0) & (X.screen_name_pekingduk==0) & (X.screen_name_WhatSoNot==0) & (X.screen_name_NGHTMRE==0) & (X.screen_name_LouisTheChild==0)]\n",
    "jai_y = y.loc[jai_x.index]\n",
    "X_train, X_test, y_train, y_test = train_test_split(jai_x, jai_y, test_size=0.25, random_state=42)\n",
    "jai_train_mse, jai_test_mse = LinearRegressor(X_train, X_test, y_train, y_test)"
   ]
  },
  {
   "cell_type": "code",
   "execution_count": 23,
   "metadata": {},
   "outputs": [],
   "source": [
    "artists = ['awonderland','wearegalantis','sanholobeats','theknocks','pekingduk','porterrobinson','WhatSoNot','LouisTheChild','NGHTMRE','JaiWolfx']\n",
    "train_mse = [alison_train_mse,galantis_train_mse,san_train_mse,knocks_train_mse,duk_train_mse,porter_train_mse,what_train_mse,ltc_train_mse,nght_train_mse,jai_train_mse]\n",
    "test_mse = [alison_test_mse,galantis_test_mse,san_test_mse,knocks_test_mse,duk_test_mse,porter_test_mse,what_test_mse,ltc_test_mse,nght_test_mse,jai_test_mse]\n",
    "train_size = [len(alison_x),len(galantis_x),len(san_x),len(knocks_x),len(duk_x),len(porter_x),len(what_x),len(ltc_x),len(nght_x),len(jai_x)]\n",
    "\n",
    "\n",
    "results = pd.DataFrame({'artist':artists,'train_size':train_size,'train_mse':train_mse,'test_mse':test_mse})"
   ]
  },
  {
   "cell_type": "code",
   "execution_count": 24,
   "metadata": {},
   "outputs": [
    {
     "data": {
      "text/html": [
       "<div>\n",
       "<style scoped>\n",
       "    .dataframe tbody tr th:only-of-type {\n",
       "        vertical-align: middle;\n",
       "    }\n",
       "\n",
       "    .dataframe tbody tr th {\n",
       "        vertical-align: top;\n",
       "    }\n",
       "\n",
       "    .dataframe thead th {\n",
       "        text-align: right;\n",
       "    }\n",
       "</style>\n",
       "<table border=\"1\" class=\"dataframe\">\n",
       "  <thead>\n",
       "    <tr style=\"text-align: right;\">\n",
       "      <th></th>\n",
       "      <th>artist</th>\n",
       "      <th>train_size</th>\n",
       "      <th>train_mse</th>\n",
       "      <th>test_mse</th>\n",
       "    </tr>\n",
       "  </thead>\n",
       "  <tbody>\n",
       "    <tr>\n",
       "      <th>0</th>\n",
       "      <td>awonderland</td>\n",
       "      <td>694</td>\n",
       "      <td>6.768748e+06</td>\n",
       "      <td>8.230582e+06</td>\n",
       "    </tr>\n",
       "    <tr>\n",
       "      <th>1</th>\n",
       "      <td>wearegalantis</td>\n",
       "      <td>1594</td>\n",
       "      <td>2.295202e+06</td>\n",
       "      <td>3.260180e+06</td>\n",
       "    </tr>\n",
       "    <tr>\n",
       "      <th>2</th>\n",
       "      <td>sanholobeats</td>\n",
       "      <td>662</td>\n",
       "      <td>8.744734e+05</td>\n",
       "      <td>1.487674e+06</td>\n",
       "    </tr>\n",
       "    <tr>\n",
       "      <th>3</th>\n",
       "      <td>theknocks</td>\n",
       "      <td>1484</td>\n",
       "      <td>7.858945e+03</td>\n",
       "      <td>3.970866e+03</td>\n",
       "    </tr>\n",
       "    <tr>\n",
       "      <th>4</th>\n",
       "      <td>pekingduk</td>\n",
       "      <td>817</td>\n",
       "      <td>6.285289e+03</td>\n",
       "      <td>3.717030e+03</td>\n",
       "    </tr>\n",
       "    <tr>\n",
       "      <th>5</th>\n",
       "      <td>porterrobinson</td>\n",
       "      <td>1219</td>\n",
       "      <td>1.753097e+07</td>\n",
       "      <td>1.706559e+07</td>\n",
       "    </tr>\n",
       "    <tr>\n",
       "      <th>6</th>\n",
       "      <td>WhatSoNot</td>\n",
       "      <td>1585</td>\n",
       "      <td>9.097937e+04</td>\n",
       "      <td>4.301338e+04</td>\n",
       "    </tr>\n",
       "    <tr>\n",
       "      <th>7</th>\n",
       "      <td>LouisTheChild</td>\n",
       "      <td>1054</td>\n",
       "      <td>8.730527e+05</td>\n",
       "      <td>6.794481e+05</td>\n",
       "    </tr>\n",
       "    <tr>\n",
       "      <th>8</th>\n",
       "      <td>NGHTMRE</td>\n",
       "      <td>1099</td>\n",
       "      <td>6.438722e+05</td>\n",
       "      <td>4.584188e+05</td>\n",
       "    </tr>\n",
       "    <tr>\n",
       "      <th>9</th>\n",
       "      <td>JaiWolfx</td>\n",
       "      <td>1681</td>\n",
       "      <td>3.349253e+05</td>\n",
       "      <td>2.277984e+06</td>\n",
       "    </tr>\n",
       "  </tbody>\n",
       "</table>\n",
       "</div>"
      ],
      "text/plain": [
       "           artist  train_size     train_mse      test_mse\n",
       "0     awonderland         694  6.768748e+06  8.230582e+06\n",
       "1   wearegalantis        1594  2.295202e+06  3.260180e+06\n",
       "2    sanholobeats         662  8.744734e+05  1.487674e+06\n",
       "3       theknocks        1484  7.858945e+03  3.970866e+03\n",
       "4       pekingduk         817  6.285289e+03  3.717030e+03\n",
       "5  porterrobinson        1219  1.753097e+07  1.706559e+07\n",
       "6       WhatSoNot        1585  9.097937e+04  4.301338e+04\n",
       "7   LouisTheChild        1054  8.730527e+05  6.794481e+05\n",
       "8         NGHTMRE        1099  6.438722e+05  4.584188e+05\n",
       "9        JaiWolfx        1681  3.349253e+05  2.277984e+06"
      ]
     },
     "execution_count": 24,
     "metadata": {},
     "output_type": "execute_result"
    }
   ],
   "source": [
    "results"
   ]
  },
  {
   "cell_type": "code",
   "execution_count": null,
   "metadata": {},
   "outputs": [],
   "source": []
  }
 ],
 "metadata": {
  "kernelspec": {
   "display_name": "Python 3",
   "language": "python",
   "name": "python3"
  },
  "language_info": {
   "codemirror_mode": {
    "name": "ipython",
    "version": 3
   },
   "file_extension": ".py",
   "mimetype": "text/x-python",
   "name": "python",
   "nbconvert_exporter": "python",
   "pygments_lexer": "ipython3",
   "version": "3.8.3"
  }
 },
 "nbformat": 4,
 "nbformat_minor": 4
}
