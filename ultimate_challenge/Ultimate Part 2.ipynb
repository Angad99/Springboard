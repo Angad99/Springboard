{
 "cells": [
  {
   "cell_type": "markdown",
   "metadata": {},
   "source": [
    "# Ultimate Data Challenge - Part 2"
   ]
  },
  {
   "cell_type": "markdown",
   "metadata": {},
   "source": [
    "- Weekdays Gotham most active at night, Metropolis most active during day\n",
    "- Weekends both are reasonably active"
   ]
  },
  {
   "cell_type": "markdown",
   "metadata": {},
   "source": [
    "1. What would you choose as the key measure of success of this experiment in encouraging driver partners to serve both cities, and why would you choose this metric?\n",
    "\n",
    "A number of possible metrics could be used to determine the success of the experiment including:\n",
    "-number of toll reimbursements  \n",
    "-time between toll payments  \n",
    "-number of tolls into Gotham at night and number of tolls into Metropolis during day  \n",
    "-increased number of reimbursements during week compared to weekends  \n",
    "\n",
    "The most effective metric to use however, would be the following:  \n",
    "**-Change in the mean number of rides completed in each city (non-dominant city should go up for each driver and dominant city should stay the same or slightly decrease if the experiment is a success)**"
   ]
  },
  {
   "cell_type": "markdown",
   "metadata": {},
   "source": [
    "2. Describe a practical experiment you would design to compare the effectiveness of the proposed change in relation to the key measure of success. Please provide details on:\n",
    "\n",
    "a. how you will implement the experiment  \n",
    "b. what statistical test(s) you will conduct to verify the significance of the observation  \n",
    "c. how you would interpret the results and provide recommendations to the city operations team along with any caveats.\n",
    " \n",
    "**To implement the experiment I would tell drivers that the reimbursement program is going to be introduced on trial basis for 1 month. After the trial period I would perform a one sided t-test on the mean number of rides completed in each city for each driver to determine if there was a significant increase in drives in the drivers' non-dominant city.**\n",
    "\n",
    "**Factors to consider:  \n",
    "-Increased number of time available for certain drivers leading to increased means  \n",
    "-Drivers using the program to travel across the toll bridge for free and not complete rides  \n",
    "-Decreased number of rides in non-dominant city on weekends  \n",
    "-Certain drivers only being able to work either during the day or at night not leading to increased rides**"
   ]
  },
  {
   "cell_type": "code",
   "execution_count": null,
   "metadata": {},
   "outputs": [],
   "source": []
  }
 ],
 "metadata": {
  "kernelspec": {
   "display_name": "Python 3",
   "language": "python",
   "name": "python3"
  },
  "language_info": {
   "codemirror_mode": {
    "name": "ipython",
    "version": 3
   },
   "file_extension": ".py",
   "mimetype": "text/x-python",
   "name": "python",
   "nbconvert_exporter": "python",
   "pygments_lexer": "ipython3",
   "version": "3.8.3"
  },
  "varInspector": {
   "cols": {
    "lenName": 16,
    "lenType": 16,
    "lenVar": 40
   },
   "kernels_config": {
    "python": {
     "delete_cmd_postfix": "",
     "delete_cmd_prefix": "del ",
     "library": "var_list.py",
     "varRefreshCmd": "print(var_dic_list())"
    },
    "r": {
     "delete_cmd_postfix": ") ",
     "delete_cmd_prefix": "rm(",
     "library": "var_list.r",
     "varRefreshCmd": "cat(var_dic_list()) "
    }
   },
   "types_to_exclude": [
    "module",
    "function",
    "builtin_function_or_method",
    "instance",
    "_Feature"
   ],
   "window_display": false
  }
 },
 "nbformat": 4,
 "nbformat_minor": 4
}
